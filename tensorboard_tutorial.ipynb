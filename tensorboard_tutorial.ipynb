{
 "cells": [
  {
   "cell_type": "code",
   "execution_count": 1,
   "metadata": {},
   "outputs": [
    {
     "name": "stdout",
     "output_type": "stream",
     "text": [
      "Extracting MNIST_data/train-images-idx3-ubyte.gz\n",
      "Extracting MNIST_data/train-labels-idx1-ubyte.gz\n",
      "Extracting MNIST_data/t10k-images-idx3-ubyte.gz\n",
      "Extracting MNIST_data/t10k-labels-idx1-ubyte.gz\n"
     ]
    }
   ],
   "source": [
    "from tensorflow.examples.tutorials.mnist import input_data\n",
    "mnist = input_data.read_data_sets(\"MNIST_data/\", one_hot=True)"
   ]
  },
  {
   "cell_type": "code",
   "execution_count": 2,
   "metadata": {
    "collapsed": true
   },
   "outputs": [],
   "source": [
    "import tensorflow as tf"
   ]
  },
  {
   "cell_type": "code",
   "execution_count": 3,
   "metadata": {
    "collapsed": true
   },
   "outputs": [],
   "source": [
    "learning_rate = 0.001\n",
    "train_epochs = 20\n",
    "batch_size = 64\n",
    "logs_path = 'tmp/tensorflow_logs/mlp_mnist'   #日志保存路径"
   ]
  },
  {
   "cell_type": "code",
   "execution_count": 4,
   "metadata": {
    "collapsed": true
   },
   "outputs": [],
   "source": [
    "n_input = 784\n",
    "n_hidden1 = 100\n",
    "n_hidden2 = 100\n",
    "n_classes = 10"
   ]
  },
  {
   "cell_type": "code",
   "execution_count": 5,
   "metadata": {
    "collapsed": true
   },
   "outputs": [],
   "source": [
    "#name参数，记录变量名字\n",
    "x = tf.placeholder(tf.float32, shape=[None, n_input], name='InputData')\n",
    "y = tf.placeholder(tf.float32, shape=[None, n_classes], name='LabelData')"
   ]
  },
  {
   "cell_type": "code",
   "execution_count": 6,
   "metadata": {
    "collapsed": true
   },
   "outputs": [],
   "source": [
    "weights = {'w1': tf.Variable(tf.random_normal([n_input, n_hidden1]), name='W1'),\n",
    "                  'w2': tf.Variable(tf.random_normal([n_hidden1, n_hidden2]), name='W2'),\n",
    "                  'w3': tf.Variable(tf.random_normal([n_hidden2, n_classes]), name='W3')}\n",
    "biases = {'b1': tf.Variable(tf.random_normal([n_hidden1]), name='b1'),\n",
    "                'b2': tf.Variable(tf.random_normal([n_hidden2]), name='b2'),\n",
    "                'b3': tf.Variable(tf.random_normal([n_classes]), name='b3')}"
   ]
  },
  {
   "cell_type": "code",
   "execution_count": 7,
   "metadata": {
    "collapsed": true
   },
   "outputs": [],
   "source": [
    "def inference(input_x):\n",
    "    layer_1 = tf.nn.relu(tf.matmul(x, weights['w1']) + biases['b1'])\n",
    "    tf.summary.histogram('layer_1', layer_1)   #记录变量直方图\n",
    "    layer_2 = tf.nn.relu(tf.matmul(layer_1, weights['w2']) + biases['b2'])\n",
    "    tf.summary.histogram('layer_2', layer_2)   #记录变量直方图\n",
    "    out_layer = tf.matmul(layer_2, weights['w3']) + biases['b3']\n",
    "    return out_layer"
   ]
  },
  {
   "cell_type": "code",
   "execution_count": 9,
   "metadata": {
    "collapsed": true
   },
   "outputs": [],
   "source": [
    "#定义计算过程的名字\n",
    "with tf.name_scope('Inference'):\n",
    "    logits = inference(x)\n",
    "with tf.name_scope('Loss'):\n",
    "    loss = tf.reduce_mean(tf.nn.softmax_cross_entropy_with_logits(logits=logits, labels=y))\n",
    "with tf.name_scope('Optimizer'):\n",
    "    optimizer = tf.train.AdamOptimizer(learning_rate=learning_rate)\n",
    "    train_op = optimizer.minimize(loss)\n",
    "with tf.name_scope('Accuracy'):\n",
    "    pre_correct = tf.equal(tf.argmax(y, 1), tf.argmax(tf.nn.softmax(logits), 1))\n",
    "    accuracy = tf.reduce_mean(tf.cast(pre_correct, tf.float32))"
   ]
  },
  {
   "cell_type": "code",
   "execution_count": 11,
   "metadata": {},
   "outputs": [
    {
     "data": {
      "text/plain": [
       "<tf.Tensor 'Accuracy_1:0' shape=() dtype=string>"
      ]
     },
     "execution_count": 11,
     "metadata": {},
     "output_type": "execute_result"
    }
   ],
   "source": [
    "#记录张量的数据\n",
    "tf.summary.scalar(\"Loss\", loss)\n",
    "tf.summary.scalar(\"Accuracy\", accuracy)"
   ]
  },
  {
   "cell_type": "code",
   "execution_count": 12,
   "metadata": {
    "collapsed": true
   },
   "outputs": [],
   "source": [
    "init = tf.global_variables_initializer()\n",
    "merged_summary_op = tf.summary.merge_all()   #定义记录运算"
   ]
  },
  {
   "cell_type": "code",
   "execution_count": 13,
   "metadata": {},
   "outputs": [
    {
     "name": "stdout",
     "output_type": "stream",
     "text": [
      "epoch 0,  loss 13.7386, acc 0.844\n",
      "epoch 5,  loss 0.6563, acc 0.953\n",
      "epoch 10,  loss 0.5294, acc 0.984\n",
      "epoch 15,  loss 0.0003, acc 1.000\n",
      "optimizer finished!\n",
      "test accuracy 0.9319\n"
     ]
    }
   ],
   "source": [
    "with tf.Session() as sess:\n",
    "    sess.run(init)\n",
    "    summary_writer = tf.summary.FileWriter(logs_path, graph=tf.get_default_graph())   #创建写对象\n",
    "    total_batch = int(mnist.train.num_examples / batch_size)\n",
    "    \n",
    "    for epoch in range(train_epochs):\n",
    "        for batch in range(total_batch):\n",
    "            batch_x, batch_y = mnist.train.next_batch(batch_size)\n",
    "            _, loss_, summary = sess.run([train_op, loss, merged_summary_op], feed_dict={x:batch_x, y:batch_y})   #执行记录运算\n",
    "            summary_writer.add_summary(summary, epoch * total_batch + batch)     #将日志写入文件\n",
    "        if epoch % 5 == 0:\n",
    "            loss_, acc = sess.run([loss, accuracy], feed_dict={x:batch_x, y:batch_y})\n",
    "            print(\"epoch {},  loss {:.4f}, acc {:.3f}\".format(epoch, loss_, acc))\n",
    "        \n",
    "    print(\"optimizer finished!\")\n",
    "    \n",
    "    #计算测试集的准确度\n",
    "    test_acc = sess.run(accuracy, feed_dict={x:mnist.test.images, y:mnist.test.labels})\n",
    "    print('test accuracy', test_acc)\n",
    "    \n",
    "    #命令行输入tensorboard --logdir==tmp/tensorflow_logs"
   ]
  }
 ],
 "metadata": {
  "kernelspec": {
   "display_name": "Python 3",
   "language": "python",
   "name": "python3"
  },
  "language_info": {
   "codemirror_mode": {
    "name": "ipython",
    "version": 3
   },
   "file_extension": ".py",
   "mimetype": "text/x-python",
   "name": "python",
   "nbconvert_exporter": "python",
   "pygments_lexer": "ipython3",
   "version": "3.5.2"
  }
 },
 "nbformat": 4,
 "nbformat_minor": 2
}
